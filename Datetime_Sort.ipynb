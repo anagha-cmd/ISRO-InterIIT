{
  "nbformat": 4,
  "nbformat_minor": 0,
  "metadata": {
    "colab": {
      "provenance": []
    },
    "kernelspec": {
      "name": "python3",
      "display_name": "Python 3"
    },
    "language_info": {
      "name": "python"
    }
  },
  "cells": [
    {
      "cell_type": "code",
      "source": [
        "import os,re\n",
        "from datetime import datetime\n",
        "import glob\n",
        "from bs4 import BeautifulSoup\n",
        "import pandas as pd\n",
        "\n",
        "def sort_with_time(directory):\n",
        "  xml_paths = [xml for xml in sorted(glob.glob(os.path.join(directory+\"*.xml\")))]\n",
        "  dates = []\n",
        "  name = []\n",
        "  for path in xml_paths:\n",
        "    with open(path, 'r') as f:\n",
        "        data = f.read()\n",
        "\n",
        "    #storing parsed xml data\n",
        "    Bs_data = BeautifulSoup(data, \"xml\")\n",
        "    b_unique = Bs_data.find_all('stop_date_time')\n",
        "    b_unique = ' '.join(map(str, b_unique))\n",
        "    b_unique = b_unique.split(\">\")\n",
        "    b_unique = ' '.join(map(str, b_unique))\n",
        "    b_unique = b_unique.split(\"<\")\n",
        "\n",
        "    z = re.findall(r'\\d{4}-\\d{2}-\\d{2}',b_unique[1])[0] + ' ' + b_unique[1].split(\"T\")[1].split('Z')[0]\n",
        "    # print(z)\n",
        "    # dates.append(re.findall(r'\\d{4}-\\d{2}-\\d{2}',b_unique[1])[0] + ' ' + b_unique[1].split(\"T\")[1].split('Z')[0])\n",
        "    k = datetime.strptime(z,\"%Y-%m-%d %H:%M:%S.%f\")\n",
        "    dates.append(k)\n",
        "    name.append(path)\n",
        "\n",
        "  z = pd.DataFrame(list(zip(dates,name)),columns=['0','1'])\n",
        "  z.sort_values(by = ['0'], ascending=True)\n",
        "  return list(z['1'])\n",
        "\n"
      ],
      "metadata": {
        "id": "hOe2l9Qmz54H"
      },
      "execution_count": 75,
      "outputs": []
    },
    {
      "cell_type": "code",
      "source": [
        "# from google.colab import drive\n",
        "# drive.mount(\"/content/drive/\")"
      ],
      "metadata": {
        "colab": {
          "base_uri": "https://localhost:8080/"
        },
        "id": "OxgPi3xsBTOw",
        "outputId": "034365c7-e010-4435-c8c9-4b04ed3033db"
      },
      "execution_count": 1,
      "outputs": [
        {
          "output_type": "stream",
          "name": "stdout",
          "text": [
            "Mounted at /content/drive/\n"
          ]
        }
      ]
    },
    {
      "cell_type": "code",
      "source": [
        "\n",
        "\n",
        "# xml_path = '/content/drive/MyDrive/ISRO/ch2_tmc_ndn_20220606T1317038588_d_oth_d32/'\n",
        "# xml_path = [xml for xml in sorted(glob.glob(os.path.join(xml_path+\"*.xml\")))]\n",
        "# # print(xml_path)\n",
        "# dates = []\n",
        "# names = []\n",
        "# for path in xml_path:\n",
        "#     with open(path, 'r') as f:\n",
        "#         data = f.read()\n",
        "\n",
        "#     Bs_data = BeautifulSoup(data, \"xml\")\n",
        "#     b_unique = Bs_data.find_all('stop_date_time')\n",
        "#     b_unique = ' '.join(map(str, b_unique))\n",
        "#     b_unique = b_unique.split(\">\")\n",
        "#     b_unique = ' '.join(map(str, b_unique))\n",
        "#     b_unique = b_unique.split(\"<\")\n",
        "\n",
        "  \n",
        "#     z = re.findall(r'\\d{4}-\\d{2}-\\d{2}',b_unique[1])[0] + ' ' + b_unique[1].split(\"T\")[1].split('Z')[0]\n",
        "#     # print(z)\n",
        "#     # dates.append(re.findall(r'\\d{4}-\\d{2}-\\d{2}',b_unique[1])[0] + ' ' + b_unique[1].split(\"T\")[1].split('Z')[0])\n",
        "#     k = datetime.strptime(z,\"%Y-%m-%d %H:%M:%S.%f\")\n",
        "#     dates.append(k)\n",
        "#     # print(k)\n",
        "#     names.append(path)\n",
        "   \n",
        "# z = pd.DataFrame(list(zip(dates,names)),columns=['0','1'])\n",
        "# z.sort_values(by = ['0'], ascending=True)\n",
        "# print(list(z['1']))\n"
      ],
      "metadata": {
        "colab": {
          "base_uri": "https://localhost:8080/"
        },
        "id": "ngAQSnycD3RI",
        "outputId": "9a74936b-6ea1-4f98-d576-977a65ed743b"
      },
      "execution_count": 74,
      "outputs": [
        {
          "output_type": "stream",
          "name": "stdout",
          "text": [
            "['/content/drive/MyDrive/ISRO/ch2_tmc_ndn_20220606T1317038588_d_oth_d32/ch2_tmc_ndn_20220606T1317038588_d_oth_d32.xml']\n"
          ]
        }
      ]
    }
  ]
}
