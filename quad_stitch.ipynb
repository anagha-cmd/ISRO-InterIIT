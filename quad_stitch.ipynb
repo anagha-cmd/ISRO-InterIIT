{
  "cells": [
    {
      "cell_type": "code",
      "execution_count": null,
      "metadata": {},
      "outputs": [],
      "source": [
        "# from google.colab import drive\n",
        "# drive.mount(\"/content/drive/\")"
      ]
    },
    {
      "cell_type": "code",
      "execution_count": null,
      "metadata": {
        "colab": {
          "base_uri": "https://localhost:8080/"
        },
        "id": "ODbi4htMlB6_",
        "outputId": "f66de0ab-4efb-4cd7-8516-6bb182554d34"
      },
      "outputs": [],
      "source": [
        "import os\n",
        "import glob\n",
        "import gdal\n",
        "import numpy as np\n",
        "from scipy import signal\n",
        "import matplotlib.pyplot as plt\n",
        "from math import radians, cos, sin, asin, sqrt\n",
        "\n",
        "quad_path =''\n",
        "\n",
        "#input file code here\n",
        "# file1 = r'/content/drive/MyDrive/ISRO/ch2_tmc_ndn_20200105T1902278938_d_oth_mad.tif'\n",
        "# ras = gdal.Open(file1)\n",
        "\n",
        "# geoTransform1 = ras.GetGeoTransform()\n",
        "# minx = geoTransform1[0]\n",
        "# maxy = geoTransform1[3]\n",
        "# maxx = minx + geoTransform1[1] * ras.RasterXSize + ras.RasterYSize*geoTransform1[2]\n",
        "# miny = maxy + geoTransform1[5] * ras.RasterYSize + ras.RasterXSize*geoTransform1[4]\n",
        "# print(minx,maxx,miny,maxy)\n",
        "# print(minx + geoTransform1[1] * ras.RasterXSize)\n",
        "# print(maxy + geoTransform1[5] * ras.RasterYSize)\n",
        "# print(ras.RasterYSize*geoTransform1[2])\n",
        "# print(ras.RasterXSize*geoTransform1[4])\n"
      ]
    },
    {
      "cell_type": "code",
      "execution_count": null,
      "metadata": {},
      "outputs": [],
      "source": [
        "def sort_with_time(directory):\n",
        "  images = [tiff for tiff in sorted(glob.glob(os.path.join(directory+\"*.tif\")))]\n",
        "  j = []\n",
        "  for image in images:\n",
        "    ras = gdal.Open(image)\n",
        "    j.append(ras.GetMetadataItem(\"TIFFTAG_DATETIME\"))\n",
        "\n",
        "  j.sort()\n",
        "  return j"
      ]
    },
    {
      "cell_type": "code",
      "execution_count": null,
      "metadata": {
        "id": "6hC6ATIHorT9"
      },
      "outputs": [],
      "source": [
        "def maxmin(quad_path):\n",
        "  images = [tiff for tiff in sorted(glob.glob(os.path.join(quad_path+\"*.tif\")))]\n",
        "  absmaxx = 0\n",
        "  absminx=0\n",
        "  absminy = 0\n",
        "  absmaxy=0\n",
        "  for image in images:\n",
        "    ras = gdal.Open(image)\n",
        "    geoTransform1 = ras.GetGeoTransform()\n",
        "    maxx = minx + geoTransform1[1] * ras.RasterXSize + ras.RasterYSize*geoTransform1[2]\n",
        "    minx = geoTransform1[0] \n",
        "    miny = maxy + geoTransform1[5] * ras.RasterYSize + ras.RasterXSize*geoTransform1[4]\n",
        "    maxy = geoTransform1[3]\n",
        "    if minx<absminx:\n",
        "      absminx=minx\n",
        "    if maxx>absmaxx:\n",
        "      absmaxx=maxx\n",
        "    if miny<absminy:\n",
        "      absminy=miny\n",
        "    if maxy>absmaxy:\n",
        "      absmaxy=maxy\n",
        "\n",
        "  z = [absminx,absmaxy,absmaxx,absminy] #lon = x, lat = y\n",
        "  return z"
      ]
    },
    {
      "cell_type": "code",
      "execution_count": null,
      "metadata": {
        "id": "ynjMqf1ynvdW"
      },
      "outputs": [],
      "source": [
        "#Euclidean distance\n",
        "def xDistance(lat1, lat2, lon1, lon2):\n",
        "     # return [abs(lon1-lon2), abs(lat1-lat2)]\n",
        "    # The math module contains a function named\n",
        "    # radians which converts from degrees to radians.\n",
        "    lon1 = radians(lon1)\n",
        "    lon2 = radians(lon2)\n",
        "    lat1 = radians(lat1)\n",
        "    lat2 = radians(lat2)\n",
        "      \n",
        "    # Haversine formula\n",
        "    dlon = lon2 - lon1\n",
        "    dlat = lat2 - lat1\n",
        "    a = sin(dlat / 2)**2 + cos(lat1) * cos(lat2) * sin(dlon / 2)**2\n",
        " \n",
        "    c = 2 * asin(sqrt(a))\n",
        "    \n",
        "    # Radius of moon in kilometers\n",
        "    r = 1737.4\n",
        "    # print(c,r)\n",
        "    pixels = (c * r * 1000)/5 * 10 ** 14 * 1.3 \n",
        "    # calculate the result\n",
        "    return pixels\n",
        "\n",
        "xDistance(85, 85, -180, 180)\n",
        "xDistance(0, 0, -180, 180)\n",
        "xDistance(30, 30, -180, 180)\n",
        "# distance(90, -90, -60, -60)"
      ]
    },
    {
      "cell_type": "code",
      "execution_count": null,
      "metadata": {
        "id": "LceOVXUiwiIX"
      },
      "outputs": [],
      "source": [
        "#make input quad_path sorted acc to time in ascending order\n",
        "def stitch_quad(quad_path):\n",
        "  z = maxmin(quad_path) # lon, lat, lon, lat\n",
        "  #can we calculate x and y distance along any lat?\n",
        "  counter = 0\n",
        "  x_dist_lat = max(xDistance(z[1],z[1],z[0],z[2]), xDistance(z[3],z[3],z[0],z[2]))\n",
        "  y_dist_lon = 5480 * abs(z[1]-z[3])/180 #5480 km\n",
        "  x_res = x_dist_lat * 10 ** 3 /5  \n",
        "  y_res = y_dist_lon * 10 ** 3 /5\n",
        "  # if (abs(x_res - distance(z[3],z[3],z[0],z[2]))>1e-3):\n",
        "  #   print('error')\n",
        "  result = np.zeros(x_res,y_res)\n",
        "  edge_detection = np.zeros(x_res,y_res, dtype=bool)\n",
        "  sorted_with_time = sort_with_time(quad_path)\n",
        " #if no rotation\n",
        "  for im_path in sorted_with_time:\n",
        "    tif = gdal.Open(im_path)\n",
        "    gt = tif.GetGeoTransform()\n",
        "    if(gt[2]==0 and gt[4]==0):\n",
        "      # x_len = gt.RasterXSize\n",
        "      # y_len = gt.RasterYSize\n",
        "      # print(x_len, y_len)\n",
        "      myarray = np.array(tif.GetRasterBand(1).ReadAsArray())\n",
        "      # x_new = xDistance(gt[3],gt[3],gt[0],z[0]) * 10**3 /5\n",
        "      x_new = int(x_dist_lat/xDistance(gt[3],gt[3],gt[0],z[0])) * xDistance(gt[3],gt[3],gt[0],z[0]) * 10**3 /5\n",
        "      y_new = y_res * abs(gt[3]-max(z[1],z[3]))/abs(z[1]-z[3])\n",
        "      result[x_new : x_new+myarray.shape[0]+1][y_new : y_new+myarray.shape[1]+1] = myarray[myarray>0]*0.5 + 0.5*result[x_new : x_new+myarray.shape[0]+1][y_new : y_new+myarray.shape[1]+1][myarray>0]\n",
        "      edge_detection[x_new : x_new+myarray.shape[0]+1][y_new : y_new+myarray.shape[1]+1][result[x_new : x_new+myarray.shape[0]+1][y_new : y_new+myarray.shape[1]+1]==0] = True\n",
        "    else:\n",
        "      counter+=1\n",
        "\n",
        "  if(counter!=0):\n",
        "    print(counter)\n",
        "  return result, edge_detection"
      ]
    },
    {
      "cell_type": "code",
      "execution_count": null,
      "metadata": {},
      "outputs": [],
      "source": [
        "quad_map, seams = stitch_quad(quad_path)\n",
        "kernal = (1/25)*np.array([[1, 3, 1],\n",
        "                    [3, 9, 3],\n",
        "                    [1, 3, 1]]) # gaussian_kernel\n",
        "quad_map[seams] = signal.convolve2d(quad_map, kernal, mode='same', boundary='symm', fillvalue=0)\n",
        "\n",
        "f = plt.figure()\n",
        "plt.imshow(quad_map)\n",
        "plt.show()"
      ]
    }
  ],
  "metadata": {
    "colab": {
      "provenance": []
    },
    "kernelspec": {
      "display_name": "interiit",
      "language": "python",
      "name": "interiit"
    },
    "language_info": {
      "codemirror_mode": {
        "name": "ipython",
        "version": 3
      },
      "file_extension": ".py",
      "mimetype": "text/x-python",
      "name": "python",
      "nbconvert_exporter": "python",
      "pygments_lexer": "ipython3",
      "version": "3.9.6"
    },
    "vscode": {
      "interpreter": {
        "hash": "5c7b89af1651d0b8571dde13640ecdccf7d5a6204171d6ab33e7c296e100e08a"
      }
    }
  },
  "nbformat": 4,
  "nbformat_minor": 0
}
